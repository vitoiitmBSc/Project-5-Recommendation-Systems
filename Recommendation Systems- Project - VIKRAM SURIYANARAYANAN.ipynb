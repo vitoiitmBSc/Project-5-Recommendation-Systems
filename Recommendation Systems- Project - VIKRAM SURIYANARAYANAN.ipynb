{
 "cells": [
  {
   "cell_type": "markdown",
   "metadata": {},
   "source": [
    "# RECOMMENDATION SYSTEMS - PROJECT FOR PHONE USER REVIEW"
   ]
  },
  {
   "cell_type": "code",
   "execution_count": 6,
   "metadata": {},
   "outputs": [],
   "source": [
    "import os\n",
    "import numpy as np\n",
    "import pandas as pd\n",
    "import pandas_profiling\n",
    "import matplotlib.pyplot as plt\n",
    "%matplotlib inline\n",
    "import seaborn as sns"
   ]
  },
  {
   "cell_type": "code",
   "execution_count": 7,
   "metadata": {},
   "outputs": [
    {
     "data": {
      "text/plain": [
       "(114925, 11)"
      ]
     },
     "execution_count": 7,
     "metadata": {},
     "output_type": "execute_result"
    }
   ],
   "source": [
    "file1= pd.read_csv('phone_user_review_file_1.csv',encoding='latin1')\n",
    "file2= pd.read_csv('phone_user_review_file_2.csv',encoding='latin1')\n",
    "file3= pd.read_csv('phone_user_review_file_3.csv',encoding='latin1')\n",
    "file4= pd.read_csv('phone_user_review_file_4.csv',encoding='latin1')\n",
    "file5= pd.read_csv('phone_user_review_file_5.csv',encoding='latin1')\n",
    "file6= pd.read_csv('phone_user_review_file_6.csv',encoding='latin1')\n",
    "file1.shape\n",
    "file2.shape\n",
    "\n"
   ]
  },
  {
   "cell_type": "code",
   "execution_count": 8,
   "metadata": {},
   "outputs": [
    {
     "data": {
      "text/plain": [
       "(374910, 11)"
      ]
     },
     "execution_count": 8,
     "metadata": {},
     "output_type": "execute_result"
    }
   ],
   "source": [
    "file1.shape\n"
   ]
  },
  {
   "cell_type": "code",
   "execution_count": 9,
   "metadata": {},
   "outputs": [
    {
     "data": {
      "text/plain": [
       "(114925, 11)"
      ]
     },
     "execution_count": 9,
     "metadata": {},
     "output_type": "execute_result"
    }
   ],
   "source": [
    "file2.shape"
   ]
  },
  {
   "cell_type": "code",
   "execution_count": 10,
   "metadata": {},
   "outputs": [
    {
     "data": {
      "text/plain": [
       "(312961, 11)"
      ]
     },
     "execution_count": 10,
     "metadata": {},
     "output_type": "execute_result"
    }
   ],
   "source": [
    "file3.shape"
   ]
  },
  {
   "cell_type": "code",
   "execution_count": 11,
   "metadata": {},
   "outputs": [
    {
     "data": {
      "text/plain": [
       "(98284, 11)"
      ]
     },
     "execution_count": 11,
     "metadata": {},
     "output_type": "execute_result"
    }
   ],
   "source": [
    "file4.shape"
   ]
  },
  {
   "cell_type": "code",
   "execution_count": 12,
   "metadata": {},
   "outputs": [
    {
     "data": {
      "text/plain": [
       "(350216, 11)"
      ]
     },
     "execution_count": 12,
     "metadata": {},
     "output_type": "execute_result"
    }
   ],
   "source": [
    "file5.shape"
   ]
  },
  {
   "cell_type": "code",
   "execution_count": 13,
   "metadata": {},
   "outputs": [
    {
     "data": {
      "text/plain": [
       "(163837, 11)"
      ]
     },
     "execution_count": 13,
     "metadata": {},
     "output_type": "execute_result"
    }
   ],
   "source": [
    "file6.shape"
   ]
  },
  {
   "cell_type": "code",
   "execution_count": 14,
   "metadata": {},
   "outputs": [],
   "source": [
    "data_comb=pd.concat([file1, file2,file3,file4,file5,file6])"
   ]
  },
  {
   "cell_type": "code",
   "execution_count": 15,
   "metadata": {},
   "outputs": [
    {
     "data": {
      "text/plain": [
       "(1415133, 11)"
      ]
     },
     "execution_count": 15,
     "metadata": {},
     "output_type": "execute_result"
    }
   ],
   "source": [
    "data_comb.shape"
   ]
  },
  {
   "cell_type": "code",
   "execution_count": 16,
   "metadata": {},
   "outputs": [
    {
     "data": {
      "text/html": [
       "<div>\n",
       "<style scoped>\n",
       "    .dataframe tbody tr th:only-of-type {\n",
       "        vertical-align: middle;\n",
       "    }\n",
       "\n",
       "    .dataframe tbody tr th {\n",
       "        vertical-align: top;\n",
       "    }\n",
       "\n",
       "    .dataframe thead th {\n",
       "        text-align: right;\n",
       "    }\n",
       "</style>\n",
       "<table border=\"1\" class=\"dataframe\">\n",
       "  <thead>\n",
       "    <tr style=\"text-align: right;\">\n",
       "      <th></th>\n",
       "      <th>phone_url</th>\n",
       "      <th>date</th>\n",
       "      <th>lang</th>\n",
       "      <th>country</th>\n",
       "      <th>source</th>\n",
       "      <th>domain</th>\n",
       "      <th>score</th>\n",
       "      <th>score_max</th>\n",
       "      <th>extract</th>\n",
       "      <th>author</th>\n",
       "      <th>product</th>\n",
       "    </tr>\n",
       "  </thead>\n",
       "  <tbody>\n",
       "    <tr>\n",
       "      <th>0</th>\n",
       "      <td>/cellphones/samsung-galaxy-s8/</td>\n",
       "      <td>5/2/2017</td>\n",
       "      <td>en</td>\n",
       "      <td>us</td>\n",
       "      <td>Verizon Wireless</td>\n",
       "      <td>verizonwireless.com</td>\n",
       "      <td>10.0</td>\n",
       "      <td>10.0</td>\n",
       "      <td>As a diehard Samsung fan who has had every Sam...</td>\n",
       "      <td>CarolAnn35</td>\n",
       "      <td>Samsung Galaxy S8</td>\n",
       "    </tr>\n",
       "    <tr>\n",
       "      <th>1</th>\n",
       "      <td>/cellphones/samsung-galaxy-s8/</td>\n",
       "      <td>4/28/2017</td>\n",
       "      <td>en</td>\n",
       "      <td>us</td>\n",
       "      <td>Phone Arena</td>\n",
       "      <td>phonearena.com</td>\n",
       "      <td>10.0</td>\n",
       "      <td>10.0</td>\n",
       "      <td>Love the phone. the phone is sleek and smooth ...</td>\n",
       "      <td>james0923</td>\n",
       "      <td>Samsung Galaxy S8</td>\n",
       "    </tr>\n",
       "    <tr>\n",
       "      <th>2</th>\n",
       "      <td>/cellphones/samsung-galaxy-s8/</td>\n",
       "      <td>5/4/2017</td>\n",
       "      <td>en</td>\n",
       "      <td>us</td>\n",
       "      <td>Amazon</td>\n",
       "      <td>amazon.com</td>\n",
       "      <td>6.0</td>\n",
       "      <td>10.0</td>\n",
       "      <td>Adequate feel. Nice heft. Processor's still sl...</td>\n",
       "      <td>R. Craig</td>\n",
       "      <td>Samsung Galaxy S8 (64GB) G950U 5.8\" 4G LTE Unl...</td>\n",
       "    </tr>\n",
       "    <tr>\n",
       "      <th>3</th>\n",
       "      <td>/cellphones/samsung-galaxy-s8/</td>\n",
       "      <td>5/2/2017</td>\n",
       "      <td>en</td>\n",
       "      <td>us</td>\n",
       "      <td>Samsung</td>\n",
       "      <td>samsung.com</td>\n",
       "      <td>9.2</td>\n",
       "      <td>10.0</td>\n",
       "      <td>Never disappointed. One of the reasons I've be...</td>\n",
       "      <td>Buster2020</td>\n",
       "      <td>Samsung Galaxy S8 64GB (AT&amp;T)</td>\n",
       "    </tr>\n",
       "    <tr>\n",
       "      <th>4</th>\n",
       "      <td>/cellphones/samsung-galaxy-s8/</td>\n",
       "      <td>5/11/2017</td>\n",
       "      <td>en</td>\n",
       "      <td>us</td>\n",
       "      <td>Verizon Wireless</td>\n",
       "      <td>verizonwireless.com</td>\n",
       "      <td>4.0</td>\n",
       "      <td>10.0</td>\n",
       "      <td>I've now found that i'm in a group of people t...</td>\n",
       "      <td>S Ate Mine</td>\n",
       "      <td>Samsung Galaxy S8</td>\n",
       "    </tr>\n",
       "    <tr>\n",
       "      <th>5</th>\n",
       "      <td>/cellphones/samsung-galaxy-s8/</td>\n",
       "      <td>5/10/2017</td>\n",
       "      <td>en</td>\n",
       "      <td>us</td>\n",
       "      <td>Verizon Wireless</td>\n",
       "      <td>verizonwireless.com</td>\n",
       "      <td>10.0</td>\n",
       "      <td>10.0</td>\n",
       "      <td>I am the type of person who never would comple...</td>\n",
       "      <td>BDB76</td>\n",
       "      <td>Samsung Galaxy S8</td>\n",
       "    </tr>\n",
       "    <tr>\n",
       "      <th>6</th>\n",
       "      <td>/cellphones/samsung-galaxy-s8/</td>\n",
       "      <td>5/10/2017</td>\n",
       "      <td>en</td>\n",
       "      <td>us</td>\n",
       "      <td>Verizon Wireless</td>\n",
       "      <td>verizonwireless.com</td>\n",
       "      <td>4.0</td>\n",
       "      <td>10.0</td>\n",
       "      <td>The way this Samsung S8 phone operates is more...</td>\n",
       "      <td>KLC30306</td>\n",
       "      <td>Samsung Galaxy S8</td>\n",
       "    </tr>\n",
       "    <tr>\n",
       "      <th>7</th>\n",
       "      <td>/cellphones/samsung-galaxy-s8/</td>\n",
       "      <td>5/10/2017</td>\n",
       "      <td>en</td>\n",
       "      <td>us</td>\n",
       "      <td>Verizon Wireless</td>\n",
       "      <td>verizonwireless.com</td>\n",
       "      <td>6.0</td>\n",
       "      <td>10.0</td>\n",
       "      <td>I bought this phone very excited to use it. I ...</td>\n",
       "      <td>Mnhy</td>\n",
       "      <td>Samsung Galaxy S8</td>\n",
       "    </tr>\n",
       "    <tr>\n",
       "      <th>8</th>\n",
       "      <td>/cellphones/samsung-galaxy-s8/</td>\n",
       "      <td>5/10/2017</td>\n",
       "      <td>en</td>\n",
       "      <td>us</td>\n",
       "      <td>Verizon Wireless</td>\n",
       "      <td>verizonwireless.com</td>\n",
       "      <td>6.0</td>\n",
       "      <td>10.0</td>\n",
       "      <td>It is an extremely advanced and truly a Smart ...</td>\n",
       "      <td>Mr Alan</td>\n",
       "      <td>Samsung Galaxy S8</td>\n",
       "    </tr>\n",
       "    <tr>\n",
       "      <th>9</th>\n",
       "      <td>/cellphones/samsung-galaxy-s8/</td>\n",
       "      <td>5/10/2017</td>\n",
       "      <td>en</td>\n",
       "      <td>us</td>\n",
       "      <td>Verizon Wireless</td>\n",
       "      <td>verizonwireless.com</td>\n",
       "      <td>8.0</td>\n",
       "      <td>10.0</td>\n",
       "      <td>Great phone with a PHENOMENAL Camera, not all ...</td>\n",
       "      <td>Raven Wolf Song</td>\n",
       "      <td>Samsung Galaxy S8</td>\n",
       "    </tr>\n",
       "  </tbody>\n",
       "</table>\n",
       "</div>"
      ],
      "text/plain": [
       "                        phone_url       date lang country            source  \\\n",
       "0  /cellphones/samsung-galaxy-s8/   5/2/2017   en      us  Verizon Wireless   \n",
       "1  /cellphones/samsung-galaxy-s8/  4/28/2017   en      us       Phone Arena   \n",
       "2  /cellphones/samsung-galaxy-s8/   5/4/2017   en      us            Amazon   \n",
       "3  /cellphones/samsung-galaxy-s8/   5/2/2017   en      us           Samsung   \n",
       "4  /cellphones/samsung-galaxy-s8/  5/11/2017   en      us  Verizon Wireless   \n",
       "5  /cellphones/samsung-galaxy-s8/  5/10/2017   en      us  Verizon Wireless   \n",
       "6  /cellphones/samsung-galaxy-s8/  5/10/2017   en      us  Verizon Wireless   \n",
       "7  /cellphones/samsung-galaxy-s8/  5/10/2017   en      us  Verizon Wireless   \n",
       "8  /cellphones/samsung-galaxy-s8/  5/10/2017   en      us  Verizon Wireless   \n",
       "9  /cellphones/samsung-galaxy-s8/  5/10/2017   en      us  Verizon Wireless   \n",
       "\n",
       "                domain  score  score_max  \\\n",
       "0  verizonwireless.com   10.0       10.0   \n",
       "1       phonearena.com   10.0       10.0   \n",
       "2           amazon.com    6.0       10.0   \n",
       "3          samsung.com    9.2       10.0   \n",
       "4  verizonwireless.com    4.0       10.0   \n",
       "5  verizonwireless.com   10.0       10.0   \n",
       "6  verizonwireless.com    4.0       10.0   \n",
       "7  verizonwireless.com    6.0       10.0   \n",
       "8  verizonwireless.com    6.0       10.0   \n",
       "9  verizonwireless.com    8.0       10.0   \n",
       "\n",
       "                                             extract           author  \\\n",
       "0  As a diehard Samsung fan who has had every Sam...       CarolAnn35   \n",
       "1  Love the phone. the phone is sleek and smooth ...        james0923   \n",
       "2  Adequate feel. Nice heft. Processor's still sl...         R. Craig   \n",
       "3  Never disappointed. One of the reasons I've be...      Buster2020    \n",
       "4  I've now found that i'm in a group of people t...       S Ate Mine   \n",
       "5  I am the type of person who never would comple...            BDB76   \n",
       "6  The way this Samsung S8 phone operates is more...         KLC30306   \n",
       "7  I bought this phone very excited to use it. I ...             Mnhy   \n",
       "8  It is an extremely advanced and truly a Smart ...          Mr Alan   \n",
       "9  Great phone with a PHENOMENAL Camera, not all ...  Raven Wolf Song   \n",
       "\n",
       "                                             product  \n",
       "0                                  Samsung Galaxy S8  \n",
       "1                                  Samsung Galaxy S8  \n",
       "2  Samsung Galaxy S8 (64GB) G950U 5.8\" 4G LTE Unl...  \n",
       "3                      Samsung Galaxy S8 64GB (AT&T)  \n",
       "4                                  Samsung Galaxy S8  \n",
       "5                                  Samsung Galaxy S8  \n",
       "6                                  Samsung Galaxy S8  \n",
       "7                                  Samsung Galaxy S8  \n",
       "8                                  Samsung Galaxy S8  \n",
       "9                                  Samsung Galaxy S8  "
      ]
     },
     "execution_count": 16,
     "metadata": {},
     "output_type": "execute_result"
    }
   ],
   "source": [
    "data_comb.head(10)"
   ]
  },
  {
   "cell_type": "code",
   "execution_count": 17,
   "metadata": {},
   "outputs": [
    {
     "data": {
      "text/plain": [
       "0         10.0\n",
       "1         10.0\n",
       "2          6.0\n",
       "3          9.0\n",
       "4          4.0\n",
       "          ... \n",
       "163832     2.0\n",
       "163833    10.0\n",
       "163834     2.0\n",
       "163835     8.0\n",
       "163836     2.0\n",
       "Name: score, Length: 1415133, dtype: float64"
      ]
     },
     "execution_count": 17,
     "metadata": {},
     "output_type": "execute_result"
    }
   ],
   "source": [
    "# ROund off scores to the nearest integers in the dataframe\n",
    "data_comb['score'].round(decimals=0)"
   ]
  },
  {
   "cell_type": "code",
   "execution_count": 18,
   "metadata": {},
   "outputs": [],
   "source": [
    "# Check for missing values. Impute the missing values if there is any ?\n",
    "#data_comb.isnull().sum()"
   ]
  },
  {
   "cell_type": "code",
   "execution_count": 19,
   "metadata": {},
   "outputs": [],
   "source": [
    "#data_comb.profile_report()"
   ]
  },
  {
   "cell_type": "code",
   "execution_count": 20,
   "metadata": {},
   "outputs": [],
   "source": [
    "# As can be seen from above there are missing values in the data set and theserows can be straight away dropped \n",
    "# as they amount to only 63689 values and do not account for a significant portion in the data\n",
    "\n",
    "#rows_with_nan = []\n",
    "#for index, row in data_comb.iterrows():\n",
    "#    is_nan_series = row.isnull()\n",
    "#    if is_nan_series.any():\n",
    "#        rows_with_nan.append(index)\n",
    "\n",
    "#print(rows_with_nan)"
   ]
  },
  {
   "cell_type": "code",
   "execution_count": 21,
   "metadata": {},
   "outputs": [],
   "source": [
    "data_comb1=data_comb.dropna()"
   ]
  },
  {
   "cell_type": "code",
   "execution_count": 22,
   "metadata": {},
   "outputs": [
    {
     "data": {
      "text/plain": [
       "(1415133, 11)"
      ]
     },
     "execution_count": 22,
     "metadata": {},
     "output_type": "execute_result"
    }
   ],
   "source": [
    "data_comb.shape"
   ]
  },
  {
   "cell_type": "code",
   "execution_count": 23,
   "metadata": {},
   "outputs": [
    {
     "data": {
      "text/plain": [
       "(1275917, 11)"
      ]
     },
     "execution_count": 23,
     "metadata": {},
     "output_type": "execute_result"
    }
   ],
   "source": [
    "data_comb1.shape"
   ]
  },
  {
   "cell_type": "code",
   "execution_count": 24,
   "metadata": {},
   "outputs": [
    {
     "name": "stderr",
     "output_type": "stream",
     "text": [
      "<ipython-input-24-4d82feb150e2>:5: SettingWithCopyWarning: \n",
      "A value is trying to be set on a copy of a slice from a DataFrame\n",
      "\n",
      "See the caveats in the documentation: https://pandas.pydata.org/pandas-docs/stable/user_guide/indexing.html#returning-a-view-versus-a-copy\n",
      "  data_comb1.drop_duplicates(subset=\"extract\", keep=False, inplace= True)\n"
     ]
    }
   ],
   "source": [
    "# So as we can see we have now dropped the rows with missing values now let us check \n",
    "# for duplicate values based on the column of extracts which means the same comments\n",
    "# given by the user.\n",
    "\n",
    "data_comb1.drop_duplicates(subset=\"extract\", keep=False, inplace= True)"
   ]
  },
  {
   "cell_type": "code",
   "execution_count": null,
   "metadata": {},
   "outputs": [],
   "source": []
  },
  {
   "cell_type": "code",
   "execution_count": 25,
   "metadata": {},
   "outputs": [
    {
     "data": {
      "text/plain": [
       "(1000000, 11)"
      ]
     },
     "execution_count": 25,
     "metadata": {},
     "output_type": "execute_result"
    }
   ],
   "source": [
    "# keeping only 10,00,000 rows using a random state = 612\n",
    "data_comb1=data_comb1.sample(n=1000000, random_state=612)\n",
    "data_comb1.shape"
   ]
  },
  {
   "cell_type": "code",
   "execution_count": 26,
   "metadata": {},
   "outputs": [
    {
     "data": {
      "text/html": [
       "<div>\n",
       "<style scoped>\n",
       "    .dataframe tbody tr th:only-of-type {\n",
       "        vertical-align: middle;\n",
       "    }\n",
       "\n",
       "    .dataframe tbody tr th {\n",
       "        vertical-align: top;\n",
       "    }\n",
       "\n",
       "    .dataframe thead th {\n",
       "        text-align: right;\n",
       "    }\n",
       "</style>\n",
       "<table border=\"1\" class=\"dataframe\">\n",
       "  <thead>\n",
       "    <tr style=\"text-align: right;\">\n",
       "      <th></th>\n",
       "      <th>phone_url</th>\n",
       "      <th>date</th>\n",
       "      <th>lang</th>\n",
       "      <th>country</th>\n",
       "      <th>source</th>\n",
       "      <th>domain</th>\n",
       "      <th>score</th>\n",
       "      <th>score_max</th>\n",
       "      <th>extract</th>\n",
       "      <th>author</th>\n",
       "      <th>product</th>\n",
       "    </tr>\n",
       "  </thead>\n",
       "  <tbody>\n",
       "    <tr>\n",
       "      <th>53826</th>\n",
       "      <td>/cellphones/apple-iphone-5s/</td>\n",
       "      <td>1/15/2014</td>\n",
       "      <td>ru</td>\n",
       "      <td>ru</td>\n",
       "      <td>Ð¡Ð²ÑÐ·Ð½Ð¾Ð¹</td>\n",
       "      <td>svyaznoy.ru</td>\n",
       "      <td>9.3</td>\n",
       "      <td>10.0</td>\n",
       "      <td>ÐÐ¾Ð¼Ñ Ð½ÑÐ¶ÐµÐ½ Ñ",
       "Ð¾ÑÐ¾ÑÐ¸Ð¹ ÑÐµÐ»ÐµÑÐ...</td>\n",
       "      <td>ÐÐµÑÐ°</td>\n",
       "      <td>Apple iPhone 5s 16GB (ÑÐµÑÐµÐ±ÑÐ¸ÑÑÑÐ¹)</td>\n",
       "    </tr>\n",
       "    <tr>\n",
       "      <th>46660</th>\n",
       "      <td>/cellphones/samsung-galaxy-note-3-neo-4g-n7505/</td>\n",
       "      <td>5/31/2015</td>\n",
       "      <td>fr</td>\n",
       "      <td>fr</td>\n",
       "      <td>Amazon</td>\n",
       "      <td>amazon.fr</td>\n",
       "      <td>10.0</td>\n",
       "      <td>10.0</td>\n",
       "      <td>Pochette samsung comme dÃ©crit au dessus , la ...</td>\n",
       "      <td>chevy</td>\n",
       "      <td>Samsung N750x Etui Ã  rabat pour Samsung Samsu...</td>\n",
       "    </tr>\n",
       "    <tr>\n",
       "      <th>28602</th>\n",
       "      <td>/cellphones/nokia-n73/</td>\n",
       "      <td>2/3/2009</td>\n",
       "      <td>ru</td>\n",
       "      <td>ru</td>\n",
       "      <td>Yandex</td>\n",
       "      <td>market.yandex.ru</td>\n",
       "      <td>8.0</td>\n",
       "      <td>10.0</td>\n",
       "      <td>Ð¡Ð¼Ð°ÑÑÑÐ¾Ð½Ð¾Ð¼ Ð¿Ð¾Ð»ÑÐ·ÑÑÑÑ Ð´Ð¾Ñ...</td>\n",
       "      <td>senyapan4aneliy</td>\n",
       "      <td>Nokia N73</td>\n",
       "    </tr>\n",
       "    <tr>\n",
       "      <th>53415</th>\n",
       "      <td>/cellphones/htc-one-x/</td>\n",
       "      <td>30/7/2012</td>\n",
       "      <td>en</td>\n",
       "      <td>us</td>\n",
       "      <td>Amazon</td>\n",
       "      <td>amazon.com</td>\n",
       "      <td>10.0</td>\n",
       "      <td>10.0</td>\n",
       "      <td>A beautiful phone.. Fast! Better than Iphone! ...</td>\n",
       "      <td>Michael</td>\n",
       "      <td>HTC One X 32 GB White Android SmartPhone with ...</td>\n",
       "    </tr>\n",
       "    <tr>\n",
       "      <th>325220</th>\n",
       "      <td>/cellphones/sony-ericsson-k800i/</td>\n",
       "      <td>2/16/2008</td>\n",
       "      <td>en</td>\n",
       "      <td>gb</td>\n",
       "      <td>Amazon</td>\n",
       "      <td>amazon.co.uk</td>\n",
       "      <td>10.0</td>\n",
       "      <td>10.0</td>\n",
       "      <td>Very happy with product and quick deluvery.</td>\n",
       "      <td>dianemclaughlin</td>\n",
       "      <td>Sony Ericsson K800i 2\" 115g Black - mobile pho...</td>\n",
       "    </tr>\n",
       "    <tr>\n",
       "      <th>283251</th>\n",
       "      <td>/cellphones/lg-optimus-f5/</td>\n",
       "      <td>12/10/2013</td>\n",
       "      <td>en</td>\n",
       "      <td>au</td>\n",
       "      <td>eBay</td>\n",
       "      <td>ebay.com.au</td>\n",
       "      <td>8.0</td>\n",
       "      <td>10.0</td>\n",
       "      <td>great product for the price,but ebay do not ma...</td>\n",
       "      <td>gums2830</td>\n",
       "      <td>LG Optimus F5 P875 - 8GB - White Smartphone</td>\n",
       "    </tr>\n",
       "    <tr>\n",
       "      <th>25553</th>\n",
       "      <td>/cellphones/motorola-moto-e/</td>\n",
       "      <td>9/29/2014</td>\n",
       "      <td>pt</td>\n",
       "      <td>br</td>\n",
       "      <td>Submarino</td>\n",
       "      <td>submarino.com.br</td>\n",
       "      <td>10.0</td>\n",
       "      <td>10.0</td>\n",
       "      <td>Ãtimo smartphone, rÃ¡pido, navega muito bem, ...</td>\n",
       "      <td>Roberto Peratelli</td>\n",
       "      <td>Motorola Smartphone Motorola Moto E DTV Colors...</td>\n",
       "    </tr>\n",
       "    <tr>\n",
       "      <th>164447</th>\n",
       "      <td>/cellphones/htc-one-m7/</td>\n",
       "      <td>10/18/2014</td>\n",
       "      <td>ru</td>\n",
       "      <td>ru</td>\n",
       "      <td>Yandex</td>\n",
       "      <td>market.yandex.ru</td>\n",
       "      <td>6.0</td>\n",
       "      <td>10.0</td>\n",
       "      <td>ÐÐ»Ñ Ð°ÐºÑÐ¸Ð²Ð½ÑÑ",
       " Ð¿Ð¾Ð»ÑÐ·Ð¾Ð²Ð°ÑÐµÐ»...</td>\n",
       "      <td>dixi56</td>\n",
       "      <td>HTC One Dual Sim</td>\n",
       "    </tr>\n",
       "    <tr>\n",
       "      <th>339007</th>\n",
       "      <td>/cellphones/sony-ericsson-k530i/</td>\n",
       "      <td>5/18/2009</td>\n",
       "      <td>fr</td>\n",
       "      <td>fr</td>\n",
       "      <td>GraphMobile</td>\n",
       "      <td>graphmobile.com</td>\n",
       "      <td>7.0</td>\n",
       "      <td>10.0</td>\n",
       "      <td>Bin je veux acheter un sony ericsson mais j'hÃ...</td>\n",
       "      <td>Djazia</td>\n",
       "      <td>Sony-Ericsson K530i</td>\n",
       "    </tr>\n",
       "    <tr>\n",
       "      <th>202286</th>\n",
       "      <td>/cellphones/samsung-i9500-galaxy-s-iv/</td>\n",
       "      <td>7/13/2013</td>\n",
       "      <td>en</td>\n",
       "      <td>us</td>\n",
       "      <td>Amazon</td>\n",
       "      <td>amazon.com</td>\n",
       "      <td>10.0</td>\n",
       "      <td>10.0</td>\n",
       "      <td>This phone is by far one of the best ones I ha...</td>\n",
       "      <td>Amazon Customer</td>\n",
       "      <td>Samsung Galaxy S4, Black Mist 32GB (AT&amp;T)</td>\n",
       "    </tr>\n",
       "  </tbody>\n",
       "</table>\n",
       "</div>"
      ],
      "text/plain": [
       "                                              phone_url        date lang  \\\n",
       "53826                      /cellphones/apple-iphone-5s/   1/15/2014   ru   \n",
       "46660   /cellphones/samsung-galaxy-note-3-neo-4g-n7505/   5/31/2015   fr   \n",
       "28602                            /cellphones/nokia-n73/    2/3/2009   ru   \n",
       "53415                            /cellphones/htc-one-x/   30/7/2012   en   \n",
       "325220                 /cellphones/sony-ericsson-k800i/   2/16/2008   en   \n",
       "283251                       /cellphones/lg-optimus-f5/  12/10/2013   en   \n",
       "25553                      /cellphones/motorola-moto-e/   9/29/2014   pt   \n",
       "164447                          /cellphones/htc-one-m7/  10/18/2014   ru   \n",
       "339007                 /cellphones/sony-ericsson-k530i/   5/18/2009   fr   \n",
       "202286           /cellphones/samsung-i9500-galaxy-s-iv/   7/13/2013   en   \n",
       "\n",
       "       country          source            domain  score  score_max  \\\n",
       "53826       ru  Ð¡Ð²ÑÐ·Ð½Ð¾Ð¹       svyaznoy.ru    9.3       10.0   \n",
       "46660       fr          Amazon         amazon.fr   10.0       10.0   \n",
       "28602       ru          Yandex  market.yandex.ru    8.0       10.0   \n",
       "53415       us          Amazon        amazon.com   10.0       10.0   \n",
       "325220      gb          Amazon      amazon.co.uk   10.0       10.0   \n",
       "283251      au            eBay       ebay.com.au    8.0       10.0   \n",
       "25553       br       Submarino  submarino.com.br   10.0       10.0   \n",
       "164447      ru          Yandex  market.yandex.ru    6.0       10.0   \n",
       "339007      fr     GraphMobile   graphmobile.com    7.0       10.0   \n",
       "202286      us          Amazon        amazon.com   10.0       10.0   \n",
       "\n",
       "                                                  extract             author  \\\n",
       "53826   ÐÐ¾Ð¼Ñ Ð½ÑÐ¶ÐµÐ½ Ñ\n",
       "Ð¾ÑÐ¾ÑÐ¸Ð¹ ÑÐµÐ»ÐµÑÐ...           ÐÐµÑÐ°   \n",
       "46660   Pochette samsung comme dÃ©crit au dessus , la ...              chevy   \n",
       "28602   Ð¡Ð¼Ð°ÑÑÑÐ¾Ð½Ð¾Ð¼ Ð¿Ð¾Ð»ÑÐ·ÑÑÑÑ Ð´Ð¾Ñ...    senyapan4aneliy   \n",
       "53415   A beautiful phone.. Fast! Better than Iphone! ...            Michael   \n",
       "325220        Very happy with product and quick deluvery.    dianemclaughlin   \n",
       "283251  great product for the price,but ebay do not ma...           gums2830   \n",
       "25553   Ãtimo smartphone, rÃ¡pido, navega muito bem, ...  Roberto Peratelli   \n",
       "164447  ÐÐ»Ñ Ð°ÐºÑÐ¸Ð²Ð½ÑÑ\n",
       " Ð¿Ð¾Ð»ÑÐ·Ð¾Ð²Ð°ÑÐµÐ»...             dixi56   \n",
       "339007  Bin je veux acheter un sony ericsson mais j'hÃ...             Djazia   \n",
       "202286  This phone is by far one of the best ones I ha...    Amazon Customer   \n",
       "\n",
       "                                                  product  \n",
       "53826       Apple iPhone 5s 16GB (ÑÐµÑÐµÐ±ÑÐ¸ÑÑÑÐ¹)  \n",
       "46660   Samsung N750x Etui Ã  rabat pour Samsung Samsu...  \n",
       "28602                                           Nokia N73  \n",
       "53415   HTC One X 32 GB White Android SmartPhone with ...  \n",
       "325220  Sony Ericsson K800i 2\" 115g Black - mobile pho...  \n",
       "283251        LG Optimus F5 P875 - 8GB - White Smartphone  \n",
       "25553   Motorola Smartphone Motorola Moto E DTV Colors...  \n",
       "164447                                   HTC One Dual Sim  \n",
       "339007                                Sony-Ericsson K530i  \n",
       "202286          Samsung Galaxy S4, Black Mist 32GB (AT&T)  "
      ]
     },
     "execution_count": 26,
     "metadata": {},
     "output_type": "execute_result"
    }
   ],
   "source": [
    "data_comb1.head(10)"
   ]
  },
  {
   "cell_type": "code",
   "execution_count": 27,
   "metadata": {},
   "outputs": [],
   "source": [
    "# As can be seen here, the following parameters are not essential in the dataset\n",
    "# and can be dropped without any effect on building the recommender system\n",
    "# 1.) Phone URL - Since this is merely the link to buy the phone\n",
    "# 2.) Date- Unless we are trying to recommend the latestmodels this column can also be dropped\n",
    "# 3.) Lang- Language of of the extract does not matter\n",
    "# 4.) domain- Since we know the source , the domain of the website does not really matter\n",
    "# 5.) score_max- ALl the scores are given with respect to the max score of 10\n",
    "# 6.) Extract - This involves the comments of the users and as can be seen above \n",
    "# against row 94811 , the extract contains onle a bunch of ??? and this column\n",
    "# can also be dropped"
   ]
  },
  {
   "cell_type": "code",
   "execution_count": 28,
   "metadata": {},
   "outputs": [],
   "source": [
    "data_comb1=data_comb1.drop(['phone_url','date','lang','domain','score_max','extract'],axis=1)\n"
   ]
  },
  {
   "cell_type": "code",
   "execution_count": 29,
   "metadata": {},
   "outputs": [],
   "source": [
    "#data_comb1=data_comb1.drop(['lang','domain','score_max','extract'],axis=1)"
   ]
  },
  {
   "cell_type": "code",
   "execution_count": 30,
   "metadata": {},
   "outputs": [
    {
     "data": {
      "text/plain": [
       "(1000000, 5)"
      ]
     },
     "execution_count": 30,
     "metadata": {},
     "output_type": "execute_result"
    }
   ],
   "source": [
    "\n",
    "data_comb1.shape"
   ]
  },
  {
   "cell_type": "code",
   "execution_count": 31,
   "metadata": {},
   "outputs": [
    {
     "data": {
      "text/html": [
       "<div>\n",
       "<style scoped>\n",
       "    .dataframe tbody tr th:only-of-type {\n",
       "        vertical-align: middle;\n",
       "    }\n",
       "\n",
       "    .dataframe tbody tr th {\n",
       "        vertical-align: top;\n",
       "    }\n",
       "\n",
       "    .dataframe thead th {\n",
       "        text-align: right;\n",
       "    }\n",
       "</style>\n",
       "<table border=\"1\" class=\"dataframe\">\n",
       "  <thead>\n",
       "    <tr style=\"text-align: right;\">\n",
       "      <th></th>\n",
       "      <th>country</th>\n",
       "      <th>source</th>\n",
       "      <th>score</th>\n",
       "      <th>author</th>\n",
       "      <th>product</th>\n",
       "    </tr>\n",
       "  </thead>\n",
       "  <tbody>\n",
       "    <tr>\n",
       "      <th>53826</th>\n",
       "      <td>ru</td>\n",
       "      <td>Ð¡Ð²ÑÐ·Ð½Ð¾Ð¹</td>\n",
       "      <td>9.3</td>\n",
       "      <td>ÐÐµÑÐ°</td>\n",
       "      <td>Apple iPhone 5s 16GB (ÑÐµÑÐµÐ±ÑÐ¸ÑÑÑÐ¹)</td>\n",
       "    </tr>\n",
       "    <tr>\n",
       "      <th>46660</th>\n",
       "      <td>fr</td>\n",
       "      <td>Amazon</td>\n",
       "      <td>10.0</td>\n",
       "      <td>chevy</td>\n",
       "      <td>Samsung N750x Etui Ã  rabat pour Samsung Samsu...</td>\n",
       "    </tr>\n",
       "    <tr>\n",
       "      <th>28602</th>\n",
       "      <td>ru</td>\n",
       "      <td>Yandex</td>\n",
       "      <td>8.0</td>\n",
       "      <td>senyapan4aneliy</td>\n",
       "      <td>Nokia N73</td>\n",
       "    </tr>\n",
       "    <tr>\n",
       "      <th>53415</th>\n",
       "      <td>us</td>\n",
       "      <td>Amazon</td>\n",
       "      <td>10.0</td>\n",
       "      <td>Michael</td>\n",
       "      <td>HTC One X 32 GB White Android SmartPhone with ...</td>\n",
       "    </tr>\n",
       "    <tr>\n",
       "      <th>325220</th>\n",
       "      <td>gb</td>\n",
       "      <td>Amazon</td>\n",
       "      <td>10.0</td>\n",
       "      <td>dianemclaughlin</td>\n",
       "      <td>Sony Ericsson K800i 2\" 115g Black - mobile pho...</td>\n",
       "    </tr>\n",
       "    <tr>\n",
       "      <th>283251</th>\n",
       "      <td>au</td>\n",
       "      <td>eBay</td>\n",
       "      <td>8.0</td>\n",
       "      <td>gums2830</td>\n",
       "      <td>LG Optimus F5 P875 - 8GB - White Smartphone</td>\n",
       "    </tr>\n",
       "    <tr>\n",
       "      <th>25553</th>\n",
       "      <td>br</td>\n",
       "      <td>Submarino</td>\n",
       "      <td>10.0</td>\n",
       "      <td>Roberto Peratelli</td>\n",
       "      <td>Motorola Smartphone Motorola Moto E DTV Colors...</td>\n",
       "    </tr>\n",
       "    <tr>\n",
       "      <th>164447</th>\n",
       "      <td>ru</td>\n",
       "      <td>Yandex</td>\n",
       "      <td>6.0</td>\n",
       "      <td>dixi56</td>\n",
       "      <td>HTC One Dual Sim</td>\n",
       "    </tr>\n",
       "    <tr>\n",
       "      <th>339007</th>\n",
       "      <td>fr</td>\n",
       "      <td>GraphMobile</td>\n",
       "      <td>7.0</td>\n",
       "      <td>Djazia</td>\n",
       "      <td>Sony-Ericsson K530i</td>\n",
       "    </tr>\n",
       "    <tr>\n",
       "      <th>202286</th>\n",
       "      <td>us</td>\n",
       "      <td>Amazon</td>\n",
       "      <td>10.0</td>\n",
       "      <td>Amazon Customer</td>\n",
       "      <td>Samsung Galaxy S4, Black Mist 32GB (AT&amp;T)</td>\n",
       "    </tr>\n",
       "  </tbody>\n",
       "</table>\n",
       "</div>"
      ],
      "text/plain": [
       "       country          source  score             author  \\\n",
       "53826       ru  Ð¡Ð²ÑÐ·Ð½Ð¾Ð¹    9.3           ÐÐµÑÐ°   \n",
       "46660       fr          Amazon   10.0              chevy   \n",
       "28602       ru          Yandex    8.0    senyapan4aneliy   \n",
       "53415       us          Amazon   10.0            Michael   \n",
       "325220      gb          Amazon   10.0    dianemclaughlin   \n",
       "283251      au            eBay    8.0           gums2830   \n",
       "25553       br       Submarino   10.0  Roberto Peratelli   \n",
       "164447      ru          Yandex    6.0             dixi56   \n",
       "339007      fr     GraphMobile    7.0             Djazia   \n",
       "202286      us          Amazon   10.0    Amazon Customer   \n",
       "\n",
       "                                                  product  \n",
       "53826       Apple iPhone 5s 16GB (ÑÐµÑÐµÐ±ÑÐ¸ÑÑÑÐ¹)  \n",
       "46660   Samsung N750x Etui Ã  rabat pour Samsung Samsu...  \n",
       "28602                                           Nokia N73  \n",
       "53415   HTC One X 32 GB White Android SmartPhone with ...  \n",
       "325220  Sony Ericsson K800i 2\" 115g Black - mobile pho...  \n",
       "283251        LG Optimus F5 P875 - 8GB - White Smartphone  \n",
       "25553   Motorola Smartphone Motorola Moto E DTV Colors...  \n",
       "164447                                   HTC One Dual Sim  \n",
       "339007                                Sony-Ericsson K530i  \n",
       "202286          Samsung Galaxy S4, Black Mist 32GB (AT&T)  "
      ]
     },
     "execution_count": 31,
     "metadata": {},
     "output_type": "execute_result"
    }
   ],
   "source": [
    "data_comb1.head(10)"
   ]
  },
  {
   "cell_type": "markdown",
   "metadata": {},
   "source": [
    "The following points are addressed in this section:\n",
    "1.) Identify the most rated features- Not clear as to what the expectation is here\n",
    "2.) Identify the users with most number of reviews\n",
    "3.) Select the data with products having more than 50 ratings and users who have give more than 50 ratings. Report the final shape of the dataset"
   ]
  },
  {
   "cell_type": "code",
   "execution_count": 32,
   "metadata": {},
   "outputs": [
    {
     "name": "stdout",
     "output_type": "stream",
     "text": [
      "639641\n"
     ]
    }
   ],
   "source": [
    "#Identify the users with most number of reviews\n",
    "#data_comb1_author = data_comb1.groupby(['author'])\n",
    "n = data_comb1.author.nunique()\n",
    "print(n)"
   ]
  },
  {
   "cell_type": "code",
   "execution_count": 33,
   "metadata": {},
   "outputs": [
    {
     "data": {
      "text/plain": [
       "author\n",
       "Amazon Customer    62240\n",
       "Cliente Amazon     16313\n",
       "Client d'Amazon     6485\n",
       "e-bit               5781\n",
       "Amazon Kunde        3974\n",
       "einer Kundin        2142\n",
       "Anonymous           2118\n",
       "einem Kunden        1556\n",
       "unknown             1388\n",
       "Anonymous           1145\n",
       "Name: score, dtype: int64"
      ]
     },
     "execution_count": 33,
     "metadata": {},
     "output_type": "execute_result"
    }
   ],
   "source": [
    "\n",
    "no_of_rated_products_per_user = data_comb1.groupby(by='author')['score'].count().sort_values(ascending=False)\n",
    "\n",
    "no_of_rated_products_per_user.head(10)"
   ]
  },
  {
   "cell_type": "code",
   "execution_count": 34,
   "metadata": {},
   "outputs": [],
   "source": [
    "# Getting a list of the products that have more than 50 ratings\n",
    "Products_50_rating=data_comb1.groupby('product')['score'].count().sort_values(ascending=False).head(4500)"
   ]
  },
  {
   "cell_type": "code",
   "execution_count": 35,
   "metadata": {},
   "outputs": [
    {
     "data": {
      "text/plain": [
       "product\n",
       "Lenovo Vibe K4 Note (White,16GB)                                                                                          4269\n",
       "Lenovo Vibe K4 Note (Black, 16GB)                                                                                         3547\n",
       "OnePlus 3 (Graphite, 64 GB)                                                                                               3374\n",
       "OnePlus 3 (Soft Gold, 64 GB)                                                                                              2898\n",
       "Lenovo Vibe K5 (Gold, VoLTE update)                                                                                       1992\n",
       "                                                                                                                          ... \n",
       "Motorola RAZR V3 Unlocked Phone with Camera and Video Player--U.S. Version with Warranty (Pink)                             51\n",
       "Microsoft Nokia Lumia 710 Smartphone (9,4 cm (3,7 Zoll) Touchscreen, 5 Megapixel Kamera, Windows Phone Mango OS) weiÃ      51\n",
       "Samsung S5260 Star II                                                                                                       51\n",
       "LG Electronics Nexus 5X 32 GB SIM-Free Android Smartphone - Quartz White                                                    51\n",
       "Motorola Smartphone Motorola Moto G DTV Colors 2Â° GeraÃ§Ã£o - Dual Chip 3G Android 4.4 CÃ¢m. 8MP Tela 5\"                   51\n",
       "Name: score, Length: 4500, dtype: int64"
      ]
     },
     "execution_count": 35,
     "metadata": {},
     "output_type": "execute_result"
    }
   ],
   "source": [
    "Products_50_rating.head(4500)"
   ]
  },
  {
   "cell_type": "code",
   "execution_count": 36,
   "metadata": {},
   "outputs": [],
   "source": [
    "# Getting a list of the users that have given more than 50 ratings\n",
    "Users_50_rating=data_comb1.groupby('author')['score'].count().sort_values(ascending=False).head(600)"
   ]
  },
  {
   "cell_type": "code",
   "execution_count": 37,
   "metadata": {},
   "outputs": [
    {
     "data": {
      "text/plain": [
       "author\n",
       "Amazon Customer                         62240\n",
       "Cliente Amazon                          16313\n",
       "Client d'Amazon                          6485\n",
       "e-bit                                    5781\n",
       "Amazon Kunde                             3974\n",
       "                                        ...  \n",
       "Johannes                                   51\n",
       "Laurent                                    51\n",
       "B                                          50\n",
       "Autor si pÅÃ¡l zÅ¯stat v anonymitÄ       50\n",
       "Heather                                    50\n",
       "Name: score, Length: 600, dtype: int64"
      ]
     },
     "execution_count": 37,
     "metadata": {},
     "output_type": "execute_result"
    }
   ],
   "source": [
    "Users_50_rating.head(600)"
   ]
  },
  {
   "cell_type": "code",
   "execution_count": 38,
   "metadata": {},
   "outputs": [
    {
     "data": {
      "text/plain": [
       "product\n",
       "æ©æç½æ C168i                                                                                                                         10.0\n",
       "Nokia Sony Ericsson W580i Pink On T-Mobile PAYG Mobile Phone                                                                               10.0\n",
       "Nokia Sony Ericsson K770i Pink On Vodafone PAYG Mobile Phone                                                                               10.0\n",
       "Nokia Smartphone Nokia Lumia 930 Desbloqueado Branco Sistema Operacional Windows 8.1 ConexÃ£o 4G CÃ¢mera 20 MP MemÃ³ria Interna de 32GB    10.0\n",
       "Nokia Smartphone Nokia Lumia 830 Desbloqueado Windows 8.1 Tela 5 MemÃ³ria Interna 16GB Wi-Fi CÃ¢mera 10MP GPS Preto                        10.0\n",
       "Nokia Smartphone Nokia Lumia 830 Desbloqueado Windows 8.1 Tela 5 MemÃ³ria Interna 16GB Wi-Fi CÃ¢mera 10MP - Branco                         10.0\n",
       "Nokia Smartphone Nokia Lumia 730 Dual Chip Desbloqueado Windows 8.1 Tela 4.7 MemÃ³ria Interna 8GB Wi-Fi CÃ¢mera 6.7MP GPS - Preto          10.0\n",
       "Nokia Smartphone Nokia Lumia 635, 4G, schermo 4,5\", 8 gb, Micro-SIM singola, SO Windows Phone 8.1, per tutti gli operatori                 10.0\n",
       "Nokia Smartphone Nokia Lumia 530 Desbloqueado Branco Windows Phone 8.1 3G CÃ¢mera 5MP MemÃ³ria Interna 4GB + Capa Laranja                  10.0\n",
       "Nokia Smartphone Nokia Lumia 520 Desbloqueado Oi Preto Windows Phone 8 CÃ¢mera 5MP 3G Wi-Fi MemÃ³ria Interna 8G GPS                        10.0\n",
       "Name: score, dtype: float64"
      ]
     },
     "execution_count": 38,
     "metadata": {},
     "output_type": "execute_result"
    }
   ],
   "source": [
    "data_comb1.groupby('product')['score'].mean().sort_values(ascending=False).head(10)"
   ]
  },
  {
   "cell_type": "code",
   "execution_count": 39,
   "metadata": {},
   "outputs": [
    {
     "data": {
      "text/plain": [
       "product\n",
       "Lenovo Vibe K4 Note (White,16GB)                4269\n",
       "Lenovo Vibe K4 Note (Black, 16GB)               3547\n",
       "OnePlus 3 (Graphite, 64 GB)                     3374\n",
       "OnePlus 3 (Soft Gold, 64 GB)                    2898\n",
       "Lenovo Vibe K5 (Gold, VoLTE update)             1992\n",
       "Lenovo Vibe K5 (Grey, VoLTE update)             1674\n",
       "Lenovo Used Lenovo Zuk Z1 (Space Grey, 64GB)    1620\n",
       "Samsung Galaxy S7 edge 32GB (Verizon)           1546\n",
       "OnePlus 3T (Gunmetal, 6GB RAM + 64GB memory)    1538\n",
       "Samsung Galaxy S7 edge 32GB (T-Mobile)          1480\n",
       "Name: score, dtype: int64"
      ]
     },
     "execution_count": 39,
     "metadata": {},
     "output_type": "execute_result"
    }
   ],
   "source": [
    "data_comb1.groupby('product')['score'].count().sort_values(ascending=False).head(10)"
   ]
  },
  {
   "cell_type": "code",
   "execution_count": null,
   "metadata": {},
   "outputs": [],
   "source": []
  },
  {
   "cell_type": "markdown",
   "metadata": {},
   "source": [
    "We have seen the products rated purely based on the rating score above and also the products based on the number fo reviews as shown above. Now let us try to combine both and see what recommendations come up."
   ]
  },
  {
   "cell_type": "code",
   "execution_count": 40,
   "metadata": {},
   "outputs": [],
   "source": [
    "Data_Mobile_Rating=pd.DataFrame(data_comb1.groupby('product')['score'].mean())"
   ]
  },
  {
   "cell_type": "code",
   "execution_count": 41,
   "metadata": {},
   "outputs": [],
   "source": [
    "Data_Mobile_Rating['Score_Counts']=pd.DataFrame(data_comb1.groupby('product')['score'].count())"
   ]
  },
  {
   "cell_type": "code",
   "execution_count": 42,
   "metadata": {},
   "outputs": [
    {
     "data": {
      "text/html": [
       "<div>\n",
       "<style scoped>\n",
       "    .dataframe tbody tr th:only-of-type {\n",
       "        vertical-align: middle;\n",
       "    }\n",
       "\n",
       "    .dataframe tbody tr th {\n",
       "        vertical-align: top;\n",
       "    }\n",
       "\n",
       "    .dataframe thead th {\n",
       "        text-align: right;\n",
       "    }\n",
       "</style>\n",
       "<table border=\"1\" class=\"dataframe\">\n",
       "  <thead>\n",
       "    <tr style=\"text-align: right;\">\n",
       "      <th></th>\n",
       "      <th>score</th>\n",
       "      <th>Score_Counts</th>\n",
       "    </tr>\n",
       "    <tr>\n",
       "      <th>product</th>\n",
       "      <th></th>\n",
       "      <th></th>\n",
       "    </tr>\n",
       "  </thead>\n",
       "  <tbody>\n",
       "    <tr>\n",
       "      <th>'Sony Xperia X (F5122) â rosa â Dual Sim (Google Android 6.0.1, 5 Display, 2 x CORTEX A72 1.8 GHz + 4 x cortex-a53...</th>\n",
       "      <td>10.000000</td>\n",
       "      <td>1</td>\n",
       "    </tr>\n",
       "    <tr>\n",
       "      <th>(7.62 cm (3 )Afficheur/Ã©cran, 2 MPixCamÃ©ra;blanc)-Smartphone</th>\n",
       "      <td>6.000000</td>\n",
       "      <td>1</td>\n",
       "    </tr>\n",
       "    <tr>\n",
       "      <th>(CUBOT) GT88 5.5\" qHD 1.3GHz MTK6572 2-Core Android 4.2.2 3G Phone 8MP CAM 512MB RAM 4GB ROM</th>\n",
       "      <td>8.000000</td>\n",
       "      <td>1</td>\n",
       "    </tr>\n",
       "    <tr>\n",
       "      <th>(DG300 Versione Aggiornata)5'' DOOGEE VOYAGER2 DG310 Dual Flashlights IPS Screen 3G Smartphone Android 4.4 MTK6582 1.3GHz Quad Core Telefono Cellulare Dual SIM 8G ROM OTG OTA GPS WIFI, BIANCO</th>\n",
       "      <td>7.657143</td>\n",
       "      <td>35</td>\n",
       "    </tr>\n",
       "    <tr>\n",
       "      <th>*** A&amp;D COFFRET OFFICIEL WIKO **** Housse WIKO CINK FIVE Coque wiko cink five protection Flip cover Etui ORIGINAL...</th>\n",
       "      <td>6.666667</td>\n",
       "      <td>3</td>\n",
       "    </tr>\n",
       "  </tbody>\n",
       "</table>\n",
       "</div>"
      ],
      "text/plain": [
       "                                                        score  Score_Counts\n",
       "product                                                                    \n",
       "'Sony Xperia X (F5122) â rosa â Dual Sim (G...  10.000000             1\n",
       "(7.62 cm (3 )Afficheur/Ã©cran, 2 MPixCamÃ©ra;bl...   6.000000             1\n",
       "(CUBOT) GT88 5.5\" qHD 1.3GHz MTK6572 2-Core And...   8.000000             1\n",
       "(DG300 Versione Aggiornata)5'' DOOGEE VOYAGER2 ...   7.657143            35\n",
       "*** A&D COFFRET OFFICIEL WIKO **** Housse WIKO ...   6.666667             3"
      ]
     },
     "execution_count": 42,
     "metadata": {},
     "output_type": "execute_result"
    }
   ],
   "source": [
    "Data_Mobile_Rating.head(5)"
   ]
  },
  {
   "cell_type": "markdown",
   "metadata": {},
   "source": [
    "AS WE CAN SEE CLEARLY THE POPULARITY RECOMMENDATION BASED SYSTEM PURELY RANKS THE PRODUCTS BASED ON THE RATING AND IS NOT PRESONALLIZED IN ANY SENSE AND ALSO DOES NOT TAKE IN TO CONSIDERATION THE NUMBER OF PEOPLE WHO RANKED THAT PARTICULAR MOVIE WHICH IS SORT OF THE MAJOR DRAWBACK IN THIS SYSTEM"
   ]
  },
  {
   "cell_type": "markdown",
   "metadata": {},
   "source": [
    "USER USER COLLABORATIVE FILTERING"
   ]
  },
  {
   "cell_type": "code",
   "execution_count": 43,
   "metadata": {},
   "outputs": [],
   "source": [
    "from surprise import KNNWithMeans\n",
    "from surprise import Dataset\n",
    "from surprise import accuracy\n",
    "from surprise.model_selection import train_test_split\n",
    "from surprise import Reader\n",
    "from surprise import dataset"
   ]
  },
  {
   "cell_type": "code",
   "execution_count": 44,
   "metadata": {},
   "outputs": [],
   "source": [
    "#Split the dataset in to training and testing dataset\n",
    "# 80% traininng and 20% testing set"
   ]
  },
  {
   "cell_type": "code",
   "execution_count": 45,
   "metadata": {},
   "outputs": [],
   "source": [
    "data_comb2=data_comb1.sample(n=60000, random_state=612)"
   ]
  },
  {
   "cell_type": "code",
   "execution_count": 46,
   "metadata": {},
   "outputs": [],
   "source": [
    "# You'll need to create a dummy reader\n",
    "reader = Reader(line_format='user item rating', rating_scale=(1, 10))\n",
    "\n",
    "# Also, a dummy Dataset class\n",
    "class MyDataset(dataset.DatasetAutoFolds):\n",
    "\n",
    "    def __init__(self, df, reader):\n",
    "\n",
    "        self.raw_ratings = [(uid, iid, r, None) for (uid, iid, r) in\n",
    "                            zip(df['author'], df['product'], df['score'])]\n",
    "        self.reader=reader\n",
    "\n",
    "data = MyDataset(data_comb2, reader)"
   ]
  },
  {
   "cell_type": "code",
   "execution_count": 47,
   "metadata": {},
   "outputs": [
    {
     "data": {
      "text/plain": [
       "<__main__.MyDataset at 0x2c83216d610>"
      ]
     },
     "execution_count": 47,
     "metadata": {},
     "output_type": "execute_result"
    }
   ],
   "source": [
    "data"
   ]
  },
  {
   "cell_type": "code",
   "execution_count": 48,
   "metadata": {},
   "outputs": [],
   "source": [
    "trainset,testset=train_test_split(data,test_size=0.15)"
   ]
  },
  {
   "cell_type": "code",
   "execution_count": 49,
   "metadata": {},
   "outputs": [
    {
     "name": "stdout",
     "output_type": "stream",
     "text": [
      "Estimating biases using als...\n",
      "Computing the pearson_baseline similarity matrix...\n",
      "Done computing similarity matrix.\n"
     ]
    },
    {
     "data": {
      "text/plain": [
       "<surprise.prediction_algorithms.knns.KNNWithMeans at 0x2c83216dd30>"
      ]
     },
     "execution_count": 49,
     "metadata": {},
     "output_type": "execute_result"
    }
   ],
   "source": [
    "# Create a modelfor user user CVD\n",
    "algo = KNNWithMeans(k=70, sim_options={'name': 'pearson_baseline', 'user_based': True})\n",
    "algo.fit(trainset)"
   ]
  },
  {
   "cell_type": "code",
   "execution_count": 50,
   "metadata": {},
   "outputs": [],
   "source": [
    "# Run the trained model against the testset\n",
    "test_pred=algo.test(testset)\n",
    "test_pred_user = pd.DataFrame(test_pred)"
   ]
  },
  {
   "cell_type": "code",
   "execution_count": 51,
   "metadata": {},
   "outputs": [
    {
     "data": {
      "text/html": [
       "<div>\n",
       "<style scoped>\n",
       "    .dataframe tbody tr th:only-of-type {\n",
       "        vertical-align: middle;\n",
       "    }\n",
       "\n",
       "    .dataframe tbody tr th {\n",
       "        vertical-align: top;\n",
       "    }\n",
       "\n",
       "    .dataframe thead th {\n",
       "        text-align: right;\n",
       "    }\n",
       "</style>\n",
       "<table border=\"1\" class=\"dataframe\">\n",
       "  <thead>\n",
       "    <tr style=\"text-align: right;\">\n",
       "      <th></th>\n",
       "      <th>uid</th>\n",
       "      <th>iid</th>\n",
       "      <th>r_ui</th>\n",
       "      <th>est</th>\n",
       "      <th>details</th>\n",
       "    </tr>\n",
       "  </thead>\n",
       "  <tbody>\n",
       "    <tr>\n",
       "      <th>0</th>\n",
       "      <td>Glasklar</td>\n",
       "      <td>Microsoft Nokia Lumia 630 Single-SIM Smartphon...</td>\n",
       "      <td>10.0</td>\n",
       "      <td>7.949343</td>\n",
       "      <td>{'was_impossible': True, 'reason': 'User and/o...</td>\n",
       "    </tr>\n",
       "    <tr>\n",
       "      <th>1</th>\n",
       "      <td>GALLOHORACIO</td>\n",
       "      <td>Motorola A1200i</td>\n",
       "      <td>8.0</td>\n",
       "      <td>7.949343</td>\n",
       "      <td>{'was_impossible': True, 'reason': 'User and/o...</td>\n",
       "    </tr>\n",
       "    <tr>\n",
       "      <th>2</th>\n",
       "      <td>L1970</td>\n",
       "      <td>Sagem my600V</td>\n",
       "      <td>2.0</td>\n",
       "      <td>7.949343</td>\n",
       "      <td>{'was_impossible': True, 'reason': 'User and/o...</td>\n",
       "    </tr>\n",
       "    <tr>\n",
       "      <th>3</th>\n",
       "      <td>ÐÐ½Ð´ÑÐµÐ¹</td>\n",
       "      <td>Samsung C3350 Xcover2 (Gray)</td>\n",
       "      <td>2.0</td>\n",
       "      <td>7.949343</td>\n",
       "      <td>{'was_impossible': True, 'reason': 'User and/o...</td>\n",
       "    </tr>\n",
       "    <tr>\n",
       "      <th>4</th>\n",
       "      <td>Expert Review</td>\n",
       "      <td>Apple iPhone 5S 16GB White</td>\n",
       "      <td>6.0</td>\n",
       "      <td>7.949343</td>\n",
       "      <td>{'was_impossible': True, 'reason': 'User and/o...</td>\n",
       "    </tr>\n",
       "  </tbody>\n",
       "</table>\n",
       "</div>"
      ],
      "text/plain": [
       "             uid                                                iid  r_ui  \\\n",
       "0       Glasklar  Microsoft Nokia Lumia 630 Single-SIM Smartphon...  10.0   \n",
       "1   GALLOHORACIO                                    Motorola A1200i   8.0   \n",
       "2          L1970                                       Sagem my600V   2.0   \n",
       "3   ÐÐ½Ð´ÑÐµÐ¹                       Samsung C3350 Xcover2 (Gray)   2.0   \n",
       "4  Expert Review                         Apple iPhone 5S 16GB White   6.0   \n",
       "\n",
       "        est                                            details  \n",
       "0  7.949343  {'was_impossible': True, 'reason': 'User and/o...  \n",
       "1  7.949343  {'was_impossible': True, 'reason': 'User and/o...  \n",
       "2  7.949343  {'was_impossible': True, 'reason': 'User and/o...  \n",
       "3  7.949343  {'was_impossible': True, 'reason': 'User and/o...  \n",
       "4  7.949343  {'was_impossible': True, 'reason': 'User and/o...  "
      ]
     },
     "execution_count": 51,
     "metadata": {},
     "output_type": "execute_result"
    }
   ],
   "source": [
    "test_pred_user.head()"
   ]
  },
  {
   "cell_type": "code",
   "execution_count": 52,
   "metadata": {},
   "outputs": [
    {
     "name": "stdout",
     "output_type": "stream",
     "text": [
      "User-based Model : Test Set\n",
      "RMSE: 2.7352\n"
     ]
    },
    {
     "data": {
      "text/plain": [
       "2.7351588560987077"
      ]
     },
     "execution_count": 52,
     "metadata": {},
     "output_type": "execute_result"
    }
   ],
   "source": [
    "# get RMSE\n",
    "print(\"User-based Model : Test Set\")\n",
    "accuracy.rmse(test_pred, verbose=True)"
   ]
  },
  {
   "cell_type": "code",
   "execution_count": 53,
   "metadata": {},
   "outputs": [
    {
     "data": {
      "text/plain": [
       "iid\n",
       "Blackview [Lacaca Store VenerdÃ¬ Nero] Blackview BV6000S 4G IP68 Smartphone Impermeabile 4,7 inch Android 6.0 Quad-Core 3 Antiurto Resistente Alla Polvere 2GB Di RAM 16GB GPS NFC OTG + GLONASS (Blake-1)    10.0\n",
       "Samsung B2100 Solid Extreme Sim Free Mobile Phone - Black                                                                                                                                                     10.0\n",
       "Samsung Galaxy J5 - Smartphone de 5\" (1280 x 720 pixeles, TFT, 1,2 GHz, memoria interna de 8 GB, 4G), blanco                                                                                                  10.0\n",
       "Motorola XT1068 Moto G (2ND GENERATION - 2014) DUAL SIM 8GB Factory Unlocked 3G Phone - Black (International Version - No Warranty)                                                                           10.0\n",
       "Sony Xperia U Noir                                                                                                                                                                                            10.0\n",
       "Name: est, dtype: float64"
      ]
     },
     "execution_count": 53,
     "metadata": {},
     "output_type": "execute_result"
    }
   ],
   "source": [
    "# Top 5 models based on User - User Rating\n",
    "c=test_pred_user.groupby('iid')['est'].mean().sort_values(ascending=False)\n",
    "c.head(5)\n"
   ]
  },
  {
   "cell_type": "code",
   "execution_count": 54,
   "metadata": {},
   "outputs": [
    {
     "name": "stdout",
     "output_type": "stream",
     "text": [
      "Estimating biases using als...\n",
      "Computing the pearson_baseline similarity matrix...\n",
      "Done computing similarity matrix.\n"
     ]
    },
    {
     "data": {
      "text/plain": [
       "<surprise.prediction_algorithms.knns.KNNWithMeans at 0x2c83bfba130>"
      ]
     },
     "execution_count": 54,
     "metadata": {},
     "output_type": "execute_result"
    }
   ],
   "source": [
    "# Fitting an Item Item based model\n",
    "algo_item = KNNWithMeans(k=70, sim_options={'name': 'pearson_baseline', 'user_based': False})\n",
    "algo_item.fit(trainset)"
   ]
  },
  {
   "cell_type": "code",
   "execution_count": 55,
   "metadata": {},
   "outputs": [],
   "source": [
    "#Predicting the test class using Item-Item collaborative filtering\n",
    "test_pred_item=algo_item.test(testset)\n"
   ]
  },
  {
   "cell_type": "code",
   "execution_count": 56,
   "metadata": {},
   "outputs": [
    {
     "name": "stdout",
     "output_type": "stream",
     "text": [
      "Item-based Model : Test Set\n",
      "RMSE: 2.6944\n"
     ]
    },
    {
     "data": {
      "text/plain": [
       "2.6943514471851255"
      ]
     },
     "execution_count": 56,
     "metadata": {},
     "output_type": "execute_result"
    }
   ],
   "source": [
    "# get RMSE\n",
    "print(\"Item-based Model : Test Set\")\n",
    "accuracy.rmse(test_pred_item, verbose=True)"
   ]
  },
  {
   "cell_type": "code",
   "execution_count": 57,
   "metadata": {},
   "outputs": [
    {
     "data": {
      "text/plain": [
       "iid\n",
       "LG Nexus 5x - Smartphone de 5.2\" (WiFi, DLNA, procesador Qualcomm Snapdragon 808 de 64 bits y 6 nÃºcleos, memoria interna de 32 GB, memoria RAM 2 GB, Android Marshmallow) color blanco    10.0\n",
       "Nokia Lumia 920 32GB 4G Giallo                                                                                                                                                             10.0\n",
       "BLU Vivo Air Unlocked Cellphone, 16GB, Black                                                                                                                                               10.0\n",
       "Sony Xperia Z5 Premium E6853 5.5-Inch 4K UHD Display Factory Unlocked (BLACK) - International Stock No Warranty                                                                            10.0\n",
       "Alcatel One Touch Idol 3 Smartphone, 4.7\", Dual SIM, Grigio Scuro [Italia]                                                                                                                 10.0\n",
       "Name: est, dtype: float64"
      ]
     },
     "execution_count": 57,
     "metadata": {},
     "output_type": "execute_result"
    }
   ],
   "source": [
    "# Top 5 models based on Item - Item Rating\n",
    "test_pred_item = pd.DataFrame(test_pred_item)\n",
    "d=test_pred_item.groupby('iid')['est'].mean().sort_values(ascending=False)\n",
    "d.head(5)"
   ]
  },
  {
   "cell_type": "markdown",
   "metadata": {},
   "source": [
    "Findings and Inferences:<br>\n",
    "As can be seen clearly the RMSE values for both user-user collaborative filter model and item-item collaborative filter model are quite high with 2.75 and 2.69 respectively.<br>\n",
    "The RMSE value is a function of the spread of the data which means higher the Standard deviation, higher will be RMSE value and also is a function of the number of samples used to compute the RMSE value. So IF we WERE TO INCREASE THE NUMBER OF SAMPLES THE RMSE WILL GO DOWN AND LIKE WISE IF WE REDUCE THE SD OF THE DATA THE RMSE WILL GO DOWN."
   ]
  },
  {
   "cell_type": "code",
   "execution_count": 58,
   "metadata": {},
   "outputs": [
    {
     "data": {
      "text/plain": [
       "<matplotlib.axes._subplots.AxesSubplot at 0x2c83bfd7c40>"
      ]
     },
     "execution_count": 58,
     "metadata": {},
     "output_type": "execute_result"
    },
    {
     "data": {
      "image/png": "[encoded data removed]",
      "text/plain": [
       "<Figure size 432x288 with 1 Axes>"
      ]
     },
     "metadata": {
      "needs_background": "light"
     },
     "output_type": "display_data"
    }
   ],
   "source": [
    "sns.boxplot(data=data_comb2,x=data_comb2[\"score\"])"
   ]
  },
  {
   "cell_type": "code",
   "execution_count": 59,
   "metadata": {},
   "outputs": [
    {
     "name": "stdout",
     "output_type": "stream",
     "text": [
      "score\n",
      "9.0\n",
      "4.0\n"
     ]
    },
    {
     "data": {
      "text/html": [
       "<div>\n",
       "<style scoped>\n",
       "    .dataframe tbody tr th:only-of-type {\n",
       "        vertical-align: middle;\n",
       "    }\n",
       "\n",
       "    .dataframe tbody tr th {\n",
       "        vertical-align: top;\n",
       "    }\n",
       "\n",
       "    .dataframe thead th {\n",
       "        text-align: right;\n",
       "    }\n",
       "</style>\n",
       "<table border=\"1\" class=\"dataframe\">\n",
       "  <thead>\n",
       "    <tr style=\"text-align: right;\">\n",
       "      <th></th>\n",
       "      <th>country</th>\n",
       "      <th>source</th>\n",
       "      <th>score</th>\n",
       "      <th>author</th>\n",
       "      <th>product</th>\n",
       "    </tr>\n",
       "  </thead>\n",
       "  <tbody>\n",
       "    <tr>\n",
       "      <th>21631</th>\n",
       "      <td>de</td>\n",
       "      <td>Otto.de</td>\n",
       "      <td>10.0</td>\n",
       "      <td>einer Kundin</td>\n",
       "      <td>Samsung Galaxy S7 edge Smartphone, 13,9 cm (5,...</td>\n",
       "    </tr>\n",
       "    <tr>\n",
       "      <th>13541</th>\n",
       "      <td>us</td>\n",
       "      <td>Samsung</td>\n",
       "      <td>9.2</td>\n",
       "      <td>BluAngel</td>\n",
       "      <td>Samsung Galaxy S7 edge 32GB (AT&amp;T)</td>\n",
       "    </tr>\n",
       "    <tr>\n",
       "      <th>72826</th>\n",
       "      <td>es</td>\n",
       "      <td>Amazon</td>\n",
       "      <td>8.0</td>\n",
       "      <td>RoCaDiSea</td>\n",
       "      <td>LG Nexus 5 - Smartphone libre Android (pantall...</td>\n",
       "    </tr>\n",
       "    <tr>\n",
       "      <th>299112</th>\n",
       "      <td>de</td>\n",
       "      <td>Amazon</td>\n",
       "      <td>8.0</td>\n",
       "      <td>Pelczer</td>\n",
       "      <td>Doogee X7 Pro Smartphone 6,0 Zoll HD Bildschir...</td>\n",
       "    </tr>\n",
       "    <tr>\n",
       "      <th>307955</th>\n",
       "      <td>es</td>\n",
       "      <td>Ciao</td>\n",
       "      <td>6.0</td>\n",
       "      <td>Garofalo</td>\n",
       "      <td>Palm Pre</td>\n",
       "    </tr>\n",
       "  </tbody>\n",
       "</table>\n",
       "</div>"
      ],
      "text/plain": [
       "       country   source  score        author  \\\n",
       "21631       de  Otto.de   10.0  einer Kundin   \n",
       "13541       us  Samsung    9.2     BluAngel    \n",
       "72826       es   Amazon    8.0     RoCaDiSea   \n",
       "299112      de   Amazon    8.0       Pelczer   \n",
       "307955      es     Ciao    6.0      Garofalo   \n",
       "\n",
       "                                                  product  \n",
       "21631   Samsung Galaxy S7 edge Smartphone, 13,9 cm (5,...  \n",
       "13541                  Samsung Galaxy S7 edge 32GB (AT&T)  \n",
       "72826   LG Nexus 5 - Smartphone libre Android (pantall...  \n",
       "299112  Doogee X7 Pro Smartphone 6,0 Zoll HD Bildschir...  \n",
       "307955                                           Palm Pre  "
      ]
     },
     "execution_count": 59,
     "metadata": {},
     "output_type": "execute_result"
    },
    {
     "data": {
      "image/png": "[encoded data removed]",
      "text/plain": [
       "<Figure size 432x288 with 1 Axes>"
      ]
     },
     "metadata": {
      "needs_background": "light"
     },
     "output_type": "display_data"
    }
   ],
   "source": [
    "# lET US FIND THE OUTLIERS AND REPLACE THEM WITH THE MEDIAN\n",
    "k=['score']\n",
    "for i in k:\n",
    "   m=data_comb2[i].quantile(0.50)\n",
    "   print(i)\n",
    "   print(m) \n",
    "   o=data_comb2[i].quantile(0.15)\n",
    "   print(o)\n",
    "   data_comb2[i]=np.where(data_comb2[i]<o,m,data_comb2[i]) \n",
    "data_comb2.isnull().sum()\n",
    "sns.boxplot(data=data_comb2,x=data_comb2[\"score\"])\n",
    "data_comb2.head()"
   ]
  },
  {
   "cell_type": "code",
   "execution_count": 60,
   "metadata": {},
   "outputs": [],
   "source": [
    "# You'll need to create a dummy reader\n",
    "reader = Reader(line_format='user item rating', rating_scale=(1, 10))\n",
    "\n",
    "# Also, a dummy Dataset class\n",
    "class MyDataset(dataset.DatasetAutoFolds):\n",
    "\n",
    "    def __init__(self, df, reader):\n",
    "\n",
    "        self.raw_ratings = [(uid, iid, r, None) for (uid, iid, r) in\n",
    "                            zip(df['author'], df['product'], df['score'])]\n",
    "        self.reader=reader\n",
    "\n",
    "data = MyDataset(data_comb2, reader)"
   ]
  },
  {
   "cell_type": "code",
   "execution_count": 61,
   "metadata": {},
   "outputs": [],
   "source": [
    "trainset_NO,testset_NO=train_test_split(data,test_size=0.15)"
   ]
  },
  {
   "cell_type": "code",
   "execution_count": 62,
   "metadata": {},
   "outputs": [
    {
     "name": "stdout",
     "output_type": "stream",
     "text": [
      "Estimating biases using als...\n",
      "Computing the pearson_baseline similarity matrix...\n",
      "Done computing similarity matrix.\n"
     ]
    },
    {
     "data": {
      "text/plain": [
       "<surprise.prediction_algorithms.knns.KNNWithMeans at 0x2c84b53f100>"
      ]
     },
     "execution_count": 62,
     "metadata": {},
     "output_type": "execute_result"
    }
   ],
   "source": [
    "# Create a modelfor user user CVD\n",
    "algo = KNNWithMeans(k=70, sim_options={'name': 'pearson_baseline', 'user_based': True})\n",
    "algo.fit(trainset_NO)"
   ]
  },
  {
   "cell_type": "code",
   "execution_count": 63,
   "metadata": {},
   "outputs": [],
   "source": [
    "# Run the trained model against the testset\n",
    "test_pred_NO=algo.test(testset_NO)\n",
    "test_pred_user_NO = pd.DataFrame(test_pred_NO)"
   ]
  },
  {
   "cell_type": "code",
   "execution_count": 64,
   "metadata": {},
   "outputs": [
    {
     "name": "stdout",
     "output_type": "stream",
     "text": [
      "User-based Model : Test Set\n",
      "RMSE: 1.7397\n"
     ]
    },
    {
     "data": {
      "text/plain": [
       "1.7396738847377808"
      ]
     },
     "execution_count": 64,
     "metadata": {},
     "output_type": "execute_result"
    }
   ],
   "source": [
    "# get RMSE\n",
    "print(\"User-based Model : Test Set\")\n",
    "accuracy.rmse(test_pred_NO, verbose=True)"
   ]
  },
  {
   "cell_type": "markdown",
   "metadata": {},
   "source": [
    "# AS CAN BE SEENS ABOVE , WHAT has been DONE  is that the Standard deviation of the data has been reduced even though it means there are some  outliers in the data, and it is seen that the RMSE decreases siginificantly from around 2.7 to 1.76."
   ]
  },
  {
   "cell_type": "markdown",
   "metadata": {},
   "source": [
    "# In what business scenario you should use popularity based Recommendation Systems ?"
   ]
  },
  {
   "cell_type": "markdown",
   "metadata": {},
   "source": [
    "Popularity based recommendation system does not take in to account any personal preferences and simply recommends the top rated products based on scores/ratings. This may be used in scenarios as a first cut recommendation system to give an idea of what is popular and is moving on well. It can be on advertising boards on Malls , theatres to show customers a genral idea of popular products."
   ]
  },
  {
   "cell_type": "markdown",
   "metadata": {},
   "source": [
    "# In what business scenario you should use CF based Recommendation Systems ?"
   ]
  },
  {
   "cell_type": "markdown",
   "metadata": {},
   "source": [
    "Collaborative filtering is a more detailed and indepth recommendation system which takes in to account personal preferences and individuals ratings/scores on movies and items and then predicts newer products and movies in a personalized setting like netflix , like amazon prime and other financial products.\n"
   ]
  },
  {
   "cell_type": "markdown",
   "metadata": {},
   "source": [
    "# 13. What other possible methods can you think of which can further improve the recommendation for different users ?"
   ]
  },
  {
   "cell_type": "markdown",
   "metadata": {},
   "source": [
    " We saw straight away that decreasing the SD improved the RMSE values and another thing that we can do collect more number samples and also by reducing grey sheep problem where one user is rating only one produt, we need get more samples where one user is predicting multiple products and that way it is also easy to capture the neighbors suring such process.<br>\n",
    " Another method ofcourse is to increase the number of samples used in building the models.<br>\n",
    " K-Fold validatation method can also be implemented."
   ]
  },
  {
   "cell_type": "markdown",
   "metadata": {},
   "source": [
    "# K-FOLD VALIDATION - Running"
   ]
  },
  {
   "cell_type": "code",
   "execution_count": 65,
   "metadata": {},
   "outputs": [],
   "source": [
    "from sklearn.model_selection import KFold\n",
    "from sklearn.model_selection import cross_val_score\n",
    "from surprise import NormalPredictor, Reader, Dataset, accuracy, SVD, SVDpp, KNNBasic, CoClustering, SlopeOne\n",
    "from surprise.model_selection import cross_validate, KFold, GridSearchCV, train_test_split"
   ]
  },
  {
   "cell_type": "code",
   "execution_count": 66,
   "metadata": {},
   "outputs": [],
   "source": [
    "def surprise_df(data):\n",
    "    \n",
    "    scale = (data.score.min(), data.score.max())\n",
    "    reader = Reader(rating_scale=scale)\n",
    "\n",
    "    df = Dataset.load_from_df(data[['author',\n",
    "                                    'product',\n",
    "                                    'score']], reader)\n",
    "    \n",
    "    return df\n",
    "user_ratings_matrix = surprise_df(data_comb1)\n",
    "train_set1, test_set1 = train_test_split(user_ratings_matrix, test_size=0.2, random_state=19)"
   ]
  },
  {
   "cell_type": "code",
   "execution_count": 67,
   "metadata": {},
   "outputs": [
    {
     "data": {
      "text/plain": [
       "<surprise.trainset.Trainset at 0x2c83216dd00>"
      ]
     },
     "execution_count": 67,
     "metadata": {},
     "output_type": "execute_result"
    }
   ],
   "source": [
    "train_set1"
   ]
  },
  {
   "cell_type": "code",
   "execution_count": 71,
   "metadata": {},
   "outputs": [
    {
     "name": "stderr",
     "output_type": "stream",
     "text": [
      "C:\\Users\\VISNN\\Anaconda3\\lib\\site-packages\\numpy\\core\\fromnumeric.py:3334: RuntimeWarning: Mean of empty slice.\n",
      "  return _methods._mean(a, axis=axis, dtype=dtype,\n",
      "C:\\Users\\VISNN\\Anaconda3\\lib\\site-packages\\numpy\\core\\_methods.py:161: RuntimeWarning: invalid value encountered in double_scalars\n",
      "  ret = ret.dtype.type(ret / rcount)\n"
     ]
    },
    {
     "data": {
      "text/html": [
       "<div>\n",
       "<style scoped>\n",
       "    .dataframe tbody tr th:only-of-type {\n",
       "        vertical-align: middle;\n",
       "    }\n",
       "\n",
       "    .dataframe tbody tr th {\n",
       "        vertical-align: top;\n",
       "    }\n",
       "\n",
       "    .dataframe thead th {\n",
       "        text-align: right;\n",
       "    }\n",
       "</style>\n",
       "<table border=\"1\" class=\"dataframe\">\n",
       "  <thead>\n",
       "    <tr style=\"text-align: right;\">\n",
       "      <th></th>\n",
       "      <th>RMSE</th>\n",
       "    </tr>\n",
       "  </thead>\n",
       "  <tbody>\n",
       "    <tr>\n",
       "      <th>baseline</th>\n",
       "      <td>3.430087</td>\n",
       "    </tr>\n",
       "    <tr>\n",
       "      <th>svd</th>\n",
       "      <td>2.592035</td>\n",
       "    </tr>\n",
       "    <tr>\n",
       "      <th>knn</th>\n",
       "      <td>2.673008</td>\n",
       "    </tr>\n",
       "    <tr>\n",
       "      <th>coclustering</th>\n",
       "      <td>2.721292</td>\n",
       "    </tr>\n",
       "    <tr>\n",
       "      <th>slopeone</th>\n",
       "      <td>NaN</td>\n",
       "    </tr>\n",
       "  </tbody>\n",
       "</table>\n",
       "</div>"
      ],
      "text/plain": [
       "                  RMSE\n",
       "baseline      3.430087\n",
       "svd           2.592035\n",
       "knn           2.673008\n",
       "coclustering  2.721292\n",
       "slopeone           NaN"
      ]
     },
     "execution_count": 71,
     "metadata": {},
     "output_type": "execute_result"
    }
   ],
   "source": [
    "# Referenced this from open source (https://towardsdatascience.com/a-simple-approach-to-building-a-recommendation-system-d0f4de1a1f50)\n",
    "\n",
    "\n",
    "kf = KFold(n_splits=50, shuffle=True, random_state=19)\n",
    "def model_framework(train_data,test_data):\n",
    "    #store the rmse values for each fold in the k-fold loop \n",
    "    normp_rmse, svd_rmse, knn_rmse, co_rmse, slope_rmse = [],[],[], [],[]\n",
    "\n",
    "    #for trainset, testset in kf.split(train_data):\n",
    "        \n",
    "        #baseline\n",
    "    normp = NormalPredictor()\n",
    "    normp.fit(trainset)\n",
    "    normp_pred = normp.test(testset)\n",
    "    normp_rmse.append(accuracy.rmse(normp_pred,verbose=False))\n",
    "        \n",
    "        #svd\n",
    "    svd = SVD(n_factors=30, n_epochs=50,biased=True, lr_all=0.005, reg_all=0.4, verbose=False)\n",
    "    svd.fit(trainset)\n",
    "    svd_pred = svd.test(testset)\n",
    "    svd_rmse.append(accuracy.rmse(svd_pred,verbose=False))\n",
    "        \n",
    "        #knn\n",
    "    knn = KNNBasic(k=40,sim_options={'name': 'cosine', 'user_based': False}, verbose=False) \n",
    "    knn.fit(trainset)\n",
    "    knn_pred = knn.test(testset)\n",
    "    knn_rmse.append(accuracy.rmse(knn_pred,verbose=False))\n",
    "        \n",
    "        #co_clustering\n",
    "    co = CoClustering(n_cltr_u=3,n_cltr_i=3,n_epochs=20)         \n",
    "    co.fit(trainset)\n",
    "    co_pred = co.test(testset)\n",
    "    co_rmse.append(accuracy.rmse(co_pred,verbose=False))\n",
    "\n",
    "    \n",
    "    mean_rmses = [np.mean(normp_rmse),\n",
    "                  np.mean(svd_rmse),\n",
    "                  np.mean(knn_rmse),\n",
    "                  np.mean(co_rmse),\n",
    "                  np.mean(slope_rmse)]\n",
    "    \n",
    "    model_names = ['baseline','svd','knn','coclustering','slopeone']\n",
    "    compare_df = pd.DataFrame(mean_rmses, columns=['RMSE'], index=model_names)\n",
    "    \n",
    "    return compare_df\n",
    "\n",
    "comparison_df = model_framework(train_set1,test_set1)\n",
    "comparison_df.head()"
   ]
  },
  {
   "cell_type": "code",
   "execution_count": null,
   "metadata": {},
   "outputs": [],
   "source": []
  }
 ],
 "metadata": {
  "kernelspec": {
   "display_name": "Python 3",
   "language": "python",
   "name": "python3"
  },
  "language_info": {
   "codemirror_mode": {
    "name": "ipython",
    "version": 3
   },
   "file_extension": ".py",
   "mimetype": "text/x-python",
   "name": "python",
   "nbconvert_exporter": "python",
   "pygments_lexer": "ipython3",
   "version": "3.8.3"
  }
 },
 "nbformat": 4,
 "nbformat_minor": 4
}
